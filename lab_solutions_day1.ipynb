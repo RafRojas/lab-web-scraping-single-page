{
 "cells": [
  {
   "cell_type": "code",
   "execution_count": 1,
   "id": "9185fdec",
   "metadata": {},
   "outputs": [],
   "source": [
    "import requests\n",
    "from bs4 import BeautifulSoup\n",
    "import pandas as pd\n",
    "import numpy as np"
   ]
  },
  {
   "cell_type": "code",
   "execution_count": 2,
   "id": "e68d7ac4",
   "metadata": {},
   "outputs": [
    {
     "name": "stdout",
     "output_type": "stream",
     "text": [
      "200\n"
     ]
    }
   ],
   "source": [
    "url = \"https://www.billboard.com/charts/hot-100/\"\n",
    "response = requests.get(url)\n",
    "print(response.status_code)"
   ]
  },
  {
   "cell_type": "code",
   "execution_count": 31,
   "id": "02ea05c9",
   "metadata": {},
   "outputs": [],
   "source": [
    "soup = BeautifulSoup(response.text, 'html.parser')\n",
    "# print(soup.prettify())"
   ]
  },
  {
   "cell_type": "code",
   "execution_count": 4,
   "id": "f92adb69",
   "metadata": {},
   "outputs": [
    {
     "data": {
      "text/plain": [
       "100"
      ]
     },
     "execution_count": 4,
     "metadata": {},
     "output_type": "execute_result"
    }
   ],
   "source": [
    "num_iter = len(soup.select(\"li.o-chart-results-list__item > h3\"))\n",
    "num_iter"
   ]
  },
  {
   "cell_type": "code",
   "execution_count": 5,
   "id": "d0df950f",
   "metadata": {},
   "outputs": [
    {
     "name": "stdout",
     "output_type": "stream",
     "text": [
      "Lift Me Up\n",
      "Unholy\n",
      "Bad Habit\n",
      "As It Was\n",
      "Lavender Haze\n",
      "Midnight Rain\n",
      "I Like You (A Happier Song)\n",
      "Bejeweled\n",
      "Super Freaky Girl\n",
      "Shirt\n",
      "Maroon\n",
      "I Ain't Worried\n",
      "You Proof\n",
      "I'm Good (Blue)\n",
      "Snow On The Beach\n",
      "Karma\n",
      "Vegas\n",
      "Sunroof\n",
      "You're On Your Own, Kid\n",
      "Under The Influence\n",
      "Wasted On You\n",
      "In My Head\n",
      "Vigilante Shit\n",
      "Jimmy Cooks\n",
      "Thriller\n",
      "Die For You\n",
      "Wait For U\n",
      "Something In The Orange\n",
      "Titi Me Pregunto\n",
      "Cuff It\n",
      "Question...?\n",
      "About Damn Time\n",
      "Late Night Talking\n",
      "Tomorrow 2\n",
      "The Kind Of Love We Make\n",
      "She Had Me At Heads Carolina\n",
      "Mastermind\n",
      "Unstoppable\n",
      "Hold Me Closer\n",
      "Me Porto Bonito\n",
      "Labyrinth\n",
      "Thank God\n",
      "5 Foot 9\n",
      "Sweet Nothing\n",
      "Golden Hour\n",
      "Monster Mash\n",
      "Just Wanna Rock\n",
      "Ghostbusters\n",
      "Fall In Love\n",
      "The Astronaut\n",
      "Half Of Me\n",
      "Until I Found You\n",
      "Rock And A Hard Place\n",
      "California Breeze\n",
      "Victoria’s Secret\n",
      "Son Of A Sinner\n",
      "What My World Spins Around\n",
      "Would've, Could've, Should've\n",
      "Star Walkin' (League Of Legends Worlds Anthem)\n",
      "Heyy\n",
      "Music For A Sushi Restaurant\n",
      "Made You Look\n",
      "Forever\n",
      "Romantic Homicide\n",
      "Don't Come Lookin'\n",
      "Wishful Drinking\n",
      "Bigger Than The Whole Sky\n",
      "Free Mind\n",
      "No Se Va\n",
      "The Great War\n",
      "Billie Eilish.\n",
      "Paris\n",
      "Whiskey On You\n",
      "All Mine\n",
      "Wait In The Truck\n",
      "Monotonia\n",
      "Hotel Lobby (Unc And Phew)\n",
      "High Infidelity\n",
      "2 Be Loved (Am I Ready)\n",
      "Staying Alive\n",
      "Real Spill\n",
      "Last Last\n",
      "Miss You\n",
      "Never Hating\n",
      "Glitch\n",
      "Freestyle\n",
      "Calm Down\n",
      "Stand On It\n",
      "La Bachata\n",
      "Gotta Move On\n",
      "Ain't Safe\n",
      "Pick Me Up\n",
      "Betty (Get Money)\n",
      "Gatubela\n",
      "300 Blackout\n",
      "Dear Reader\n",
      "Country On\n",
      "Bzrp Music Sessions, Vol. 52\n",
      "Evergreen\n"
     ]
    }
   ],
   "source": [
    "for songs in soup.find_all(\"li\",{\"class\":\"o-chart-results-list__item // lrv-u-flex-grow-1 lrv-u-flex lrv-u-flex-direction-column lrv-u-justify-content-center lrv-u-border-b-1 u-border-b-0@mobile-max lrv-u-border-color-grey-light lrv-u-padding-l-050 lrv-u-padding-l-1@mobile-max\"}):\n",
    "    song_name = print(songs.find_all(\"h3\")[0].get_text().replace(\"\\t\",\"\").replace(\"\\n\",\"\"))"
   ]
  },
  {
   "cell_type": "code",
   "execution_count": 6,
   "id": "17439723",
   "metadata": {},
   "outputs": [
    {
     "name": "stdout",
     "output_type": "stream",
     "text": [
      "Rihanna\n",
      "Sam Smith & Kim Petras\n",
      "Steve Lacy\n",
      "Harry Styles\n",
      "Taylor Swift\n",
      "Taylor Swift\n",
      "Post Malone Featuring Doja Cat\n",
      "Taylor Swift\n",
      "Nicki Minaj\n",
      "SZA\n",
      "Taylor Swift\n",
      "OneRepublic\n",
      "Morgan Wallen\n",
      "David Guetta & Bebe Rexha\n",
      "Taylor Swift Featuring Lana Del Rey\n",
      "Taylor Swift\n",
      "Doja Cat\n",
      "Nicky Youre & dazy\n",
      "Taylor Swift\n",
      "Chris Brown\n",
      "Morgan Wallen\n",
      "Juice WRLD\n",
      "Taylor Swift\n",
      "Drake Featuring 21 Savage\n",
      "Michael Jackson\n",
      "The Weeknd\n",
      "Future Featuring Drake & Tems\n",
      "Zach Bryan\n",
      "Bad Bunny\n",
      "Beyonce\n",
      "Taylor Swift\n",
      "Lizzo\n",
      "Harry Styles\n",
      "GloRilla & Cardi B\n",
      "Luke Combs\n",
      "Cole Swindell\n",
      "Taylor Swift\n",
      "Sia\n",
      "Elton John & Britney Spears\n",
      "Bad Bunny & Chencho Corleone\n",
      "Taylor Swift\n",
      "Kane Brown With Katelyn Brown\n",
      "Tyler Hubbard\n",
      "Taylor Swift\n",
      "JVKE\n",
      "Bobby \"Boris\" Pickett And The Crypt-Kickers\n",
      "Lil Uzi Vert\n",
      "Ray Parker Jr.\n",
      "Bailey Zimmerman\n",
      "JIN\n",
      "Thomas Rhett Featuring Riley Green\n",
      "Stephen Sanchez\n",
      "Bailey Zimmerman\n",
      "Lil Baby\n",
      "Jax\n",
      "Jelly Roll\n",
      "Jordan Davis\n",
      "Taylor Swift\n",
      "Lil Nas X\n",
      "Lil Baby\n",
      "Harry Styles\n",
      "Meghan Trainor\n",
      "Lil Baby Featuring Fridayy\n",
      "d4vd\n",
      "Jackson Dean\n",
      "Ingrid Andress With Sam Hunt\n",
      "Taylor Swift\n",
      "Tems\n",
      "Grupo Frontera\n",
      "Taylor Swift\n",
      "Armani White\n",
      "Taylor Swift\n",
      "Nate Smith\n",
      "Brent Faiyaz\n",
      "HARDY Featuring Lainey Wilson\n",
      "Shakira + Ozuna\n",
      "Quavo & Takeoff\n",
      "Taylor Swift\n",
      "Lizzo\n",
      "DJ Khaled Featuring Drake & Lil Baby\n",
      "Lil Baby\n",
      "Burna Boy\n",
      "Oliver Tree & Robin Schulz\n",
      "Lil Baby & Young Thug\n",
      "Taylor Swift\n",
      "Lil Baby\n",
      "Rema & Selena Gomez\n",
      "Lil Baby\n",
      "Manuel Turizo\n",
      "Diddy & Bryson Tiller\n",
      "Trippie Redd & Don Toliver\n",
      "Gabby Barrett\n",
      "Yung Gravy\n",
      "Karol G x Maldy\n",
      "Kodak Black\n",
      "Taylor Swift\n",
      "Luke Bryan\n",
      "Bizarrap & Quevedo\n",
      "Omar Apollo\n"
     ]
    }
   ],
   "source": [
    "for songs in soup.find_all(\"li\",{\"class\":\"o-chart-results-list__item // lrv-u-flex-grow-1 lrv-u-flex lrv-u-flex-direction-column lrv-u-justify-content-center lrv-u-border-b-1 u-border-b-0@mobile-max lrv-u-border-color-grey-light lrv-u-padding-l-050 lrv-u-padding-l-1@mobile-max\"}):\n",
    "    song_artist = print(songs.find_all(\"span\")[0].get_text().replace(\"\\t\",\"\").replace(\"\\n\",\"\"))"
   ]
  },
  {
   "cell_type": "code",
   "execution_count": 7,
   "id": "0c74f136",
   "metadata": {},
   "outputs": [
    {
     "name": "stdout",
     "output_type": "stream",
     "text": [
      "['\\n\\t\\n\\tTaylor Swift\\n']\n"
     ]
    }
   ],
   "source": [
    "song_name = soup.select('#post-1479786 > div.pmc-paywall > div > div > div > div > div > ul > li.lrv-u-width-100p > ul > li > span')[0]\n",
    "\n",
    "song_name = [text.get_text() for text in song_name]\n",
    "\n",
    "print(song_name)\n"
   ]
  },
  {
   "cell_type": "code",
   "execution_count": 8,
   "id": "1c01362c",
   "metadata": {},
   "outputs": [
    {
     "data": {
      "text/plain": [
       "<h3 class=\"c-title a-no-trucate a-font-primary-bold-s u-letter-spacing-0021 u-font-size-23@tablet lrv-u-font-size-16 u-line-height-125 u-line-height-normal@mobile-max a-truncate-ellipsis u-max-width-245 u-max-width-230@tablet-only u-letter-spacing-0028@tablet\" id=\"title-of-a-story\">\n",
       "\n",
       "\t\n",
       "\t\n",
       "\t\t\n",
       "\t\t\t\t\tAnti-Hero\t\t\n",
       "\t\n",
       "</h3>"
      ]
     },
     "execution_count": 8,
     "metadata": {},
     "output_type": "execute_result"
    }
   ],
   "source": [
    "soup.select('#post-1479786 > div.pmc-paywall > div > div > div > div > div > ul > li.lrv-u-width-100p > ul > li > h3')[0]\n"
   ]
  },
  {
   "cell_type": "code",
   "execution_count": 9,
   "id": "327d4a5e",
   "metadata": {},
   "outputs": [],
   "source": [
    "\n",
    "for songs in soup.find_all(\"li\",{\"class\":\"o-chart-results-list__item // lrv-u-flex-grow-1 lrv-u-flex lrv-u-flex-direction-column lrv-u-justify-content-center lrv-u-border-b-1 u-border-b-0@mobile-max lrv-u-border-color-grey-light  lrv-u-padding-l-1@mobile-max\"}):\n",
    "        print(songs.find_all(\"h3\")[0].get_text().replace(\"\\t\",\"\").replace(\"\\n\",\"\"))\n",
    "\n",
    "        print(songs.find_all(\"span\")[0].get_text().replace(\"\\t\",\"\").replace(\"\\n\",\"\"))\n"
   ]
  },
  {
   "cell_type": "code",
   "execution_count": 10,
   "id": "50aeecf8",
   "metadata": {},
   "outputs": [],
   "source": [
    "def scrape_hot100():\n",
    "    url = \"https://www.billboard.com/charts/hot-100/\"\n",
    "    response = requests.get(url)\n",
    "    soup = BeautifulSoup(response.text, 'html.parser')\n",
    "    song_name = []\n",
    "    song_artist = []\n",
    "    first_name = soup.select('#post-1479786 > div.pmc-paywall > div > div > div > div > div > ul > li.lrv-u-width-100p > ul > li > h3')[0].get_text().replace(\"\\t\",\"\").replace(\"\\n\",\"\")\n",
    "    song_name.append(first_name)\n",
    "    first_artist = soup.select('#post-1479786 > div.pmc-paywall > div > div > div > div > div > ul > li.lrv-u-width-100p > ul > li > span')[0].get_text().replace(\"\\t\",\"\").replace(\"\\n\",\"\")\n",
    "    song_artist.append(first_artist)\n",
    "    for songs in soup.find_all(\"li\",{\"class\":\"o-chart-results-list__item // lrv-u-flex-grow-1 lrv-u-flex lrv-u-flex-direction-column lrv-u-justify-content-center lrv-u-border-b-1 u-border-b-0@mobile-max lrv-u-border-color-grey-light lrv-u-padding-l-050 lrv-u-padding-l-1@mobile-max\"}):\n",
    "        name=songs.find_all(\"h3\")[0].get_text().replace(\"\\t\",\"\").replace(\"\\n\",\"\")\n",
    "        song_name.append(name)\n",
    "        artist=songs.find_all(\"span\")[0].get_text().replace(\"\\t\",\"\").replace(\"\\n\",\"\")\n",
    "        song_artist.append(artist)\n",
    "    hot100=pd.DataFrame({\n",
    "    \"song_name\":song_name,\n",
    "    \"song_artist\":song_artist})\n",
    "    hot100.to_csv('hot100.csv', index=False)"
   ]
  },
  {
   "cell_type": "code",
   "execution_count": 11,
   "id": "86d5b1d4",
   "metadata": {},
   "outputs": [
    {
     "data": {
      "text/html": [
       "<div>\n",
       "<style scoped>\n",
       "    .dataframe tbody tr th:only-of-type {\n",
       "        vertical-align: middle;\n",
       "    }\n",
       "\n",
       "    .dataframe tbody tr th {\n",
       "        vertical-align: top;\n",
       "    }\n",
       "\n",
       "    .dataframe thead th {\n",
       "        text-align: right;\n",
       "    }\n",
       "</style>\n",
       "<table border=\"1\" class=\"dataframe\">\n",
       "  <thead>\n",
       "    <tr style=\"text-align: right;\">\n",
       "      <th></th>\n",
       "      <th>song_name</th>\n",
       "      <th>song_artist</th>\n",
       "    </tr>\n",
       "  </thead>\n",
       "  <tbody>\n",
       "    <tr>\n",
       "      <th>0</th>\n",
       "      <td>Anti-Hero</td>\n",
       "      <td>Taylor Swift</td>\n",
       "    </tr>\n",
       "    <tr>\n",
       "      <th>1</th>\n",
       "      <td>Lavender Haze</td>\n",
       "      <td>Taylor Swift</td>\n",
       "    </tr>\n",
       "    <tr>\n",
       "      <th>2</th>\n",
       "      <td>Maroon</td>\n",
       "      <td>Taylor Swift</td>\n",
       "    </tr>\n",
       "    <tr>\n",
       "      <th>3</th>\n",
       "      <td>Snow On The Beach</td>\n",
       "      <td>Taylor Swift Featuring Lana Del Rey</td>\n",
       "    </tr>\n",
       "    <tr>\n",
       "      <th>4</th>\n",
       "      <td>Midnight Rain</td>\n",
       "      <td>Taylor Swift</td>\n",
       "    </tr>\n",
       "    <tr>\n",
       "      <th>...</th>\n",
       "      <td>...</td>\n",
       "      <td>...</td>\n",
       "    </tr>\n",
       "    <tr>\n",
       "      <th>95</th>\n",
       "      <td>Dark Red</td>\n",
       "      <td>Steve Lacy</td>\n",
       "    </tr>\n",
       "    <tr>\n",
       "      <th>96</th>\n",
       "      <td>From Now On</td>\n",
       "      <td>Lil Baby Featuring Future</td>\n",
       "    </tr>\n",
       "    <tr>\n",
       "      <th>97</th>\n",
       "      <td>Forget Me</td>\n",
       "      <td>Lewis Capaldi</td>\n",
       "    </tr>\n",
       "    <tr>\n",
       "      <th>98</th>\n",
       "      <td>Miss You</td>\n",
       "      <td>Oliver Tree &amp; Robin Schulz</td>\n",
       "    </tr>\n",
       "    <tr>\n",
       "      <th>99</th>\n",
       "      <td>Despecha</td>\n",
       "      <td>Rosalia</td>\n",
       "    </tr>\n",
       "  </tbody>\n",
       "</table>\n",
       "<p>100 rows × 2 columns</p>\n",
       "</div>"
      ],
      "text/plain": [
       "            song_name                          song_artist\n",
       "0           Anti-Hero                         Taylor Swift\n",
       "1       Lavender Haze                         Taylor Swift\n",
       "2              Maroon                         Taylor Swift\n",
       "3   Snow On The Beach  Taylor Swift Featuring Lana Del Rey\n",
       "4       Midnight Rain                         Taylor Swift\n",
       "..                ...                                  ...\n",
       "95           Dark Red                           Steve Lacy\n",
       "96        From Now On            Lil Baby Featuring Future\n",
       "97          Forget Me                        Lewis Capaldi\n",
       "98           Miss You           Oliver Tree & Robin Schulz\n",
       "99           Despecha                              Rosalia\n",
       "\n",
       "[100 rows x 2 columns]"
      ]
     },
     "execution_count": 11,
     "metadata": {},
     "output_type": "execute_result"
    }
   ],
   "source": [
    "hot100 = pd.read_csv('hot100.csv')\n",
    "\n",
    "hot100"
   ]
  },
  {
   "cell_type": "code",
   "execution_count": 12,
   "id": "3b41203b",
   "metadata": {},
   "outputs": [
    {
     "data": {
      "text/html": [
       "<div>\n",
       "<style scoped>\n",
       "    .dataframe tbody tr th:only-of-type {\n",
       "        vertical-align: middle;\n",
       "    }\n",
       "\n",
       "    .dataframe tbody tr th {\n",
       "        vertical-align: top;\n",
       "    }\n",
       "\n",
       "    .dataframe thead th {\n",
       "        text-align: right;\n",
       "    }\n",
       "</style>\n",
       "<table border=\"1\" class=\"dataframe\">\n",
       "  <thead>\n",
       "    <tr style=\"text-align: right;\">\n",
       "      <th></th>\n",
       "      <th>artist_name</th>\n",
       "      <th>track_name</th>\n",
       "    </tr>\n",
       "  </thead>\n",
       "  <tbody>\n",
       "    <tr>\n",
       "      <th>0</th>\n",
       "      <td>mukesh</td>\n",
       "      <td>mohabbat bhi jhoothi</td>\n",
       "    </tr>\n",
       "    <tr>\n",
       "      <th>1</th>\n",
       "      <td>frankie laine</td>\n",
       "      <td>i believe</td>\n",
       "    </tr>\n",
       "    <tr>\n",
       "      <th>2</th>\n",
       "      <td>johnnie ray</td>\n",
       "      <td>cry</td>\n",
       "    </tr>\n",
       "    <tr>\n",
       "      <th>3</th>\n",
       "      <td>pérez prado</td>\n",
       "      <td>patricia</td>\n",
       "    </tr>\n",
       "    <tr>\n",
       "      <th>4</th>\n",
       "      <td>giorgos papadopoulos</td>\n",
       "      <td>apopse eida oneiro</td>\n",
       "    </tr>\n",
       "  </tbody>\n",
       "</table>\n",
       "</div>"
      ],
      "text/plain": [
       "            artist_name            track_name\n",
       "0                mukesh  mohabbat bhi jhoothi\n",
       "1         frankie laine             i believe\n",
       "2           johnnie ray                   cry\n",
       "3           pérez prado              patricia\n",
       "4  giorgos papadopoulos    apopse eida oneiro"
      ]
     },
     "execution_count": 12,
     "metadata": {},
     "output_type": "execute_result"
    }
   ],
   "source": [
    "not_hot = pd.read_csv('tcc_ceds_music.csv')\n",
    "\n",
    "not_hot = not_hot.drop(['Unnamed: 0', 'release_date', 'genre', 'lyrics', 'len',\n",
    "       'dating', 'violence', 'world/life', 'night/time', 'shake the audience',\n",
    "       'family/gospel', 'romantic', 'communication', 'obscene', 'music',\n",
    "       'movement/places', 'light/visual perceptions', 'family/spiritual',\n",
    "       'like/girls', 'sadness', 'feelings', 'danceability', 'loudness',\n",
    "       'acousticness', 'instrumentalness', 'valence', 'energy', 'topic',\n",
    "       'age'], axis=1)\n",
    "\n",
    "not_hot.head()"
   ]
  },
  {
   "cell_type": "code",
   "execution_count": 13,
   "id": "66825823",
   "metadata": {},
   "outputs": [
    {
     "name": "stdout",
     "output_type": "stream",
     "text": [
      "Index(['artist_name', 'track_name'], dtype='object')\n"
     ]
    },
    {
     "data": {
      "text/plain": [
       "(28372, 2)"
      ]
     },
     "execution_count": 13,
     "metadata": {},
     "output_type": "execute_result"
    }
   ],
   "source": [
    "print(not_hot.columns)\n",
    "\n",
    "not_hot.shape"
   ]
  },
  {
   "cell_type": "code",
   "execution_count": 17,
   "id": "9fd92cec",
   "metadata": {},
   "outputs": [
    {
     "data": {
      "text/html": [
       "<div>\n",
       "<style scoped>\n",
       "    .dataframe tbody tr th:only-of-type {\n",
       "        vertical-align: middle;\n",
       "    }\n",
       "\n",
       "    .dataframe tbody tr th {\n",
       "        vertical-align: top;\n",
       "    }\n",
       "\n",
       "    .dataframe thead th {\n",
       "        text-align: right;\n",
       "    }\n",
       "</style>\n",
       "<table border=\"1\" class=\"dataframe\">\n",
       "  <thead>\n",
       "    <tr style=\"text-align: right;\">\n",
       "      <th></th>\n",
       "      <th>song_artist</th>\n",
       "      <th>song_name</th>\n",
       "    </tr>\n",
       "  </thead>\n",
       "  <tbody>\n",
       "    <tr>\n",
       "      <th>0</th>\n",
       "      <td>mukesh</td>\n",
       "      <td>mohabbat bhi jhoothi</td>\n",
       "    </tr>\n",
       "    <tr>\n",
       "      <th>1</th>\n",
       "      <td>frankie laine</td>\n",
       "      <td>i believe</td>\n",
       "    </tr>\n",
       "    <tr>\n",
       "      <th>2</th>\n",
       "      <td>johnnie ray</td>\n",
       "      <td>cry</td>\n",
       "    </tr>\n",
       "    <tr>\n",
       "      <th>3</th>\n",
       "      <td>pérez prado</td>\n",
       "      <td>patricia</td>\n",
       "    </tr>\n",
       "    <tr>\n",
       "      <th>4</th>\n",
       "      <td>giorgos papadopoulos</td>\n",
       "      <td>apopse eida oneiro</td>\n",
       "    </tr>\n",
       "  </tbody>\n",
       "</table>\n",
       "</div>"
      ],
      "text/plain": [
       "            song_artist             song_name\n",
       "0                mukesh  mohabbat bhi jhoothi\n",
       "1         frankie laine             i believe\n",
       "2           johnnie ray                   cry\n",
       "3           pérez prado              patricia\n",
       "4  giorgos papadopoulos    apopse eida oneiro"
      ]
     },
     "execution_count": 17,
     "metadata": {},
     "output_type": "execute_result"
    }
   ],
   "source": [
    "not_hot = not_hot.rename({'track_name': 'song_name', 'artist_name': 'song_artist'}, axis=1 )\n",
    "\n",
    "not_hot.head()"
   ]
  },
  {
   "cell_type": "code",
   "execution_count": 18,
   "id": "8b727829",
   "metadata": {},
   "outputs": [],
   "source": [
    "index_drop = []\n",
    "\n",
    "for song in not_hot.song_name:\n",
    "    if ((hot100.song_name == song).sum() > 0):\n",
    "        duplicate_index = hot100[hot100.song_name == song].index\n",
    "        index_drop = index_drop + duplicate_index.values.tolist()\n",
    "          \n",
    "nothot = not_hot.copy()        \n",
    "nothot = nothot.drop(index_drop)\n",
    "nothot.reset_index(inplace = True, drop = True)"
   ]
  },
  {
   "cell_type": "code",
   "execution_count": 30,
   "id": "fb26016c",
   "metadata": {},
   "outputs": [
    {
     "data": {
      "text/html": [
       "<div>\n",
       "<style scoped>\n",
       "    .dataframe tbody tr th:only-of-type {\n",
       "        vertical-align: middle;\n",
       "    }\n",
       "\n",
       "    .dataframe tbody tr th {\n",
       "        vertical-align: top;\n",
       "    }\n",
       "\n",
       "    .dataframe thead th {\n",
       "        text-align: right;\n",
       "    }\n",
       "</style>\n",
       "<table border=\"1\" class=\"dataframe\">\n",
       "  <thead>\n",
       "    <tr style=\"text-align: right;\">\n",
       "      <th></th>\n",
       "      <th>song_artist</th>\n",
       "      <th>song_name</th>\n",
       "    </tr>\n",
       "  </thead>\n",
       "  <tbody>\n",
       "    <tr>\n",
       "      <th>8697</th>\n",
       "      <td>marty robbins</td>\n",
       "      <td>knee deep in the blues</td>\n",
       "    </tr>\n",
       "    <tr>\n",
       "      <th>24682</th>\n",
       "      <td>rush</td>\n",
       "      <td>kid gloves</td>\n",
       "    </tr>\n",
       "    <tr>\n",
       "      <th>7476</th>\n",
       "      <td>ray price</td>\n",
       "      <td>there's no fool like a young fool</td>\n",
       "    </tr>\n",
       "    <tr>\n",
       "      <th>20620</th>\n",
       "      <td>dj shadow</td>\n",
       "      <td>nobody speak</td>\n",
       "    </tr>\n",
       "    <tr>\n",
       "      <th>20171</th>\n",
       "      <td>gretchen parlato</td>\n",
       "      <td>holding back the years</td>\n",
       "    </tr>\n",
       "  </tbody>\n",
       "</table>\n",
       "</div>"
      ],
      "text/plain": [
       "            song_artist                          song_name\n",
       "8697      marty robbins             knee deep in the blues\n",
       "24682              rush                         kid gloves\n",
       "7476          ray price  there's no fool like a young fool\n",
       "20620         dj shadow                       nobody speak\n",
       "20171  gretchen parlato             holding back the years"
      ]
     },
     "execution_count": 30,
     "metadata": {},
     "output_type": "execute_result"
    }
   ],
   "source": [
    "not_hot_songs = nothot.sample(4000, random_state = 1)\n",
    "not_hot_songs.shape\n",
    "not_hot_songs.head()"
   ]
  },
  {
   "cell_type": "code",
   "execution_count": 25,
   "id": "eb124692",
   "metadata": {},
   "outputs": [],
   "source": [
    "nothot.to_csv('not_hot_songs.csv', index=False)"
   ]
  }
 ],
 "metadata": {
  "kernelspec": {
   "display_name": "Python 3 (ipykernel)",
   "language": "python",
   "name": "python3"
  },
  "language_info": {
   "codemirror_mode": {
    "name": "ipython",
    "version": 3
   },
   "file_extension": ".py",
   "mimetype": "text/x-python",
   "name": "python",
   "nbconvert_exporter": "python",
   "pygments_lexer": "ipython3",
   "version": "3.9.12"
  }
 },
 "nbformat": 4,
 "nbformat_minor": 5
}
